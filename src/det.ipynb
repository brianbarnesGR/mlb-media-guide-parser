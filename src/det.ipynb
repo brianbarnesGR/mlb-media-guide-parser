{
 "cells": [
  {
   "cell_type": "code",
   "execution_count": 2,
   "metadata": {},
   "outputs": [],
   "source": [
    "import pandas as pd\n",
    "from bs4 import BeautifulSoup\n",
    "from nameparser import HumanName\n",
    "import requests"
   ]
  },
  {
   "attachments": {},
   "cell_type": "markdown",
   "metadata": {},
   "source": [
    "# 2023 - Present"
   ]
  },
  {
   "cell_type": "code",
   "execution_count": 33,
   "metadata": {},
   "outputs": [],
   "source": [
    "team = 'DET'\n",
    "\n",
    "_source = {\n",
    "    2023: 'https://web.archive.org/web/20230306062049/https://www.mlb.com/tigers/team/front-office'\n",
    "}"
   ]
  },
  {
   "cell_type": "code",
   "execution_count": 62,
   "metadata": {},
   "outputs": [],
   "source": [
    "df = pd.DataFrame()\n",
    "\n",
    "for year in _source.keys():\n",
    "    res = requests.get(_source[year])\n",
    "    soup = BeautifulSoup(res.content)\n",
    "    deps = [x.text.strip() for x in soup.select('h4')]\n",
    "\n",
    "    temp_df = pd.DataFrame({\n",
    "        'Name': [x.text.replace(' – ', ' - ').split('- ')[-1] for x in soup.select('p, h4')],\n",
    "        'Title': [' - '.join(x.text.replace(' – ', ' - ').split('- ')[:-1]).strip() for x in soup.select('p, h4')]\n",
    "    })\n",
    "    \n",
    "    temp_df['Name'] = temp_df.Name.str.split(', ')\n",
    "    temp_df = temp_df.explode('Name')\n",
    "\n",
    "    temp_df['NameLast'] = temp_df.Name.apply(lambda x: HumanName(x).last)\n",
    "    temp_df['NameFirst'] = temp_df.Name.apply(lambda x: HumanName(x).first)\n",
    "\n",
    "    temp_df['Department'] = temp_df.Name.apply(lambda x: x if x in deps else None)\n",
    "    temp_df['Department'].ffill(inplace=True)\n",
    "\n",
    "    temp_df['Year'] = year\n",
    "    temp_df['Team'] = team\n",
    "    temp_df['Source of Information'] = _source[year]\n",
    "    \n",
    "    temp_df = temp_df[temp_df.Title.str.len() > 0]\n",
    "    temp_df = temp_df[temp_df.NameLast != '']\n",
    "\n",
    "    df = pd.concat([\n",
    "        df,\n",
    "        # temp_df\n",
    "        temp_df[['Year', 'Team', 'NameLast', 'NameFirst', 'Title', 'Department', 'Source of Information']]\n",
    "    ])"
   ]
  },
  {
   "cell_type": "code",
   "execution_count": 65,
   "metadata": {},
   "outputs": [],
   "source": [
    "df[['Year', 'Team', 'NameLast', 'NameFirst', 'Title', 'Department', 'Source of Information']] \\\n",
    "    .to_excel(f'../out/{team}-{min(_source.keys())}-to-{max(_source.keys())}.xlsx', index=False)"
   ]
  }
 ],
 "metadata": {
  "kernelspec": {
   "display_name": "sabr-bob",
   "language": "python",
   "name": "python3"
  },
  "language_info": {
   "codemirror_mode": {
    "name": "ipython",
    "version": 3
   },
   "file_extension": ".py",
   "mimetype": "text/x-python",
   "name": "python",
   "nbconvert_exporter": "python",
   "pygments_lexer": "ipython3",
   "version": "3.11.3"
  },
  "orig_nbformat": 4
 },
 "nbformat": 4,
 "nbformat_minor": 2
}
