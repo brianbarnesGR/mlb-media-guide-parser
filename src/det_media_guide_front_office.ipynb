{
 "cells": [
  {
   "cell_type": "code",
   "execution_count": 1,
   "metadata": {
    "colab": {
     "base_uri": "https://localhost:8080/"
    },
    "executionInfo": {
     "elapsed": 1230,
     "status": "ok",
     "timestamp": 1661610012844,
     "user": {
      "displayName": "Brian Barnes",
      "userId": "17159938779096451246"
     },
     "user_tz": 240
    },
    "id": "tcTJMAdZEFIA",
    "outputId": "c03255eb-07f1-4e81-c881-7b48118d36e8"
   },
   "outputs": [],
   "source": [
    "import pandas as pd\n",
    "import re\n",
    "\n",
    "from PyPDF2 import PdfReader"
   ]
  },
  {
   "cell_type": "code",
   "execution_count": 2,
   "metadata": {
    "executionInfo": {
     "elapsed": 230,
     "status": "ok",
     "timestamp": 1661610146595,
     "user": {
      "displayName": "Brian Barnes",
      "userId": "17159938779096451246"
     },
     "user_tz": 240
    },
    "id": "Hdv9tp5xBsyM"
   },
   "outputs": [],
   "source": [
    "def get_title_cleanup() -> dict:\n",
    "  return {\n",
    "    'Senior Advisors': 'Senior Advisor',\n",
    "    'Technology Specialists': 'Technology Specialist',\n",
    "    'Special Assistants to the General Manager': 'Special Assistant to the General Manager',\n",
    "    'Player Development Coordinators': 'Player Development Coordinator',\n",
    "    'Minor League Video Coordinators': 'Minor League Video Coordinator',\n",
    "    'Corporate Partnerships Sales Directors': 'Corporate Partnerships Sales Director',\n",
    "    'Corporate Partnerships Sales Managers': 'Corporate Partnerships Sales Manager',\n",
    "    'Suite Sales Account Executives': 'Suite Sales Account Executive',\n",
    "    'Promotions & Special Events Coordinators': 'Promotions & Special Events Coordinator',\n",
    "    'Media Relations Coordinators': 'Media Relations Coordinator',\n",
    "    'Security Managers': 'Security Manager',\n",
    "    'Park Operations Coordinators': 'Park Operations Coordinator',\n",
    "    'Park Operations Assistants': 'Park Operations Assistant',\n",
    "    'Ballpark Electricians': 'Ballpark Electrician',\n",
    "    'Housekeeping Supervisors': 'Housekeeping Supervisor',\n",
    "    'Producer Editors': 'Producer Editor',\n",
    "    'New Business Representatives': 'New Business Representative',\n",
    "    'Group Sales Senior Executives': 'Group Sales Senior Executive',\n",
    "    'Group Sales Executives': 'Group Sales Executive',\n",
    "    'Client Services Representatives': 'Client Services Representative',\n",
    "    'Ticket Services Managers': 'Ticket Services Manager',\n",
    "    'Box Office Administrators': 'Box Office Administrator',\n",
    "    'Sales Representatives': 'Sales Representative',\n",
    "    'Account Executives, Client Services': 'Account Executive, Client Services',\n",
    "    'Account Executives, Group Sales': 'Account Executive, Group Sales',\n",
    "    'Account Executives, New Business': 'Account Executive, New Business',\n",
    "    'Accout Executives, Premium Sales': 'Account Executive, Premium Sales',\n",
    "    'Analysts, Baseball Operations': 'Analyst, Baseball Operations',\n",
    "    'Assistant Athletic Trainers': 'Assistant Athletic Trainer',\n",
    "    'Coordinators, Corporate Partnership Activation': 'Coordinator, Corporate Partnership Activation',\n",
    "    'Corporate Recruiters': 'Corporate Recruiter',\n",
    "    'Full-Stack Software Engineers': 'Full-Stack Software Engineer',\n",
    "    'Managers, Corporate Partnership Activation': 'Manager, Corporate Partnership Activation',\n",
    "    'Managers, Ticket Services': 'Manager, Corporate Ticket Services',\n",
    "    'Operations Managers': 'Operations Manager',\n",
    "    'Promotions & Special Events Coordinators': 'Promotions & Special Events Coordinator',\n",
    "    'Sales Executives, Premium Sales': 'Sales Executive, Premium Sales',\n",
    "    'Sales Managers, Corporate Partnerships': 'Sales Manager, Corporate Partnerships',\n",
    "    'Security Supervisors': 'Security Supervisor',\n",
    "    'Senior Account Executives, Client Services': 'Senior Account Executive, Client Services',\n",
    "    'Senior Analysts, Baseball Operations': 'Senior Analyst, Baseball Operations',\n",
    "    'Solutions Managers, Corporate Partnerships': 'Solutions Manager, Corporate Partnerships',\n",
    "    'Community Impact Managers': 'Community Impact Manager',\n",
    "    'HVAC Technicians': 'HVAC Technician',\n",
    "    'HVAC Techs': 'HVAC Technician',\n",
    "    'Assistant Director, Amatuer Scouting': 'Assistant Director, Amateur Scouting'\n",
    "  }"
   ]
  },
  {
   "cell_type": "code",
   "execution_count": 3,
   "metadata": {
    "executionInfo": {
     "elapsed": 955,
     "status": "ok",
     "timestamp": 1661610148861,
     "user": {
      "displayName": "Brian Barnes",
      "userId": "17159938779096451246"
     },
     "user_tz": 240
    },
    "id": "xLy-ddgqh-V_"
   },
   "outputs": [],
   "source": [
    "def get_department_cleanup(year:int) -> dict:\n",
    "  results = {\n",
    "    'Information T echnology': 'Information Technology',\n",
    "    'Athletic T raining/Strength & Conditioning': 'Athletic Training/Strength & Conditioning',\n",
    "    'T raining/Conditioning': 'Training/Conditioning',\n",
    "    'Jim Leyland, Mike Russell, Alan Trammell': None,\n",
    "    'Jillian Walker, T .J. Wyrebek': None,\n",
    "    'Br ennan Socha, Corey Wolfgang': None,\n",
    "    'Kar a Grabowski, Kate Laura': None,\n",
    "    'Jim Le yland, Lance Parrish, Mike Russell, Alan Trammell': None,\n",
    "    'Sar ah Stachowicz, Corey Thomas': None\n",
    "  }\n",
    "\n",
    "  if year == 2019:\n",
    "    results['tigers.com / facebook.com/tigers / @Tigers / @TigresdeDetroit / @DetroitTigersPR'] = 'Executive Office'\n",
    "  elif year in [2020, 2021, 2022]:\n",
    "    results['tigers.com / facebook.com/tigers / @Tigers / @TigresdeDetroit / @DetroitTigersPR'] = 'Business Operations Leadership'\n",
    "\n",
    "  return results"
   ]
  },
  {
   "cell_type": "code",
   "execution_count": 4,
   "metadata": {
    "executionInfo": {
     "elapsed": 19,
     "status": "ok",
     "timestamp": 1661610149141,
     "user": {
      "displayName": "Brian Barnes",
      "userId": "17159938779096451246"
     },
     "user_tz": 240
    },
    "id": "oiZrbmucdgKs"
   },
   "outputs": [],
   "source": [
    "def get_start_index(year:int, team:str, page:int) -> int:\n",
    "  if year == 2019 and team == 'DET' and page == 6:\n",
    "    return 8\n",
    "  else:\n",
    "    return 0"
   ]
  },
  {
   "cell_type": "code",
   "execution_count": 5,
   "metadata": {
    "executionInfo": {
     "elapsed": 17,
     "status": "ok",
     "timestamp": 1661610149143,
     "user": {
      "displayName": "Brian Barnes",
      "userId": "17159938779096451246"
     },
     "user_tz": 240
    },
    "id": "nGeBIT9ki329"
   },
   "outputs": [],
   "source": [
    "def cleanup_name_title(year:int, team:str, title:str, original_name:str, prior_title:str):\n",
    "  new_title = title\n",
    "  new_name = str(original_name)\n",
    "\n",
    "  if team == 'DET':\n",
    "    if title in ['Jim Leyland, Mike Russell, Alan Trammell',\n",
    "                 'Jillian Walker, T .J. Wyrebek',\n",
    "                 'Br ennan Socha, Corey Wolfgang',\n",
    "                 'Sar ah Stachowicz, Corey Thomas',\n",
    "                 'Jim Le yland, Lance Parrish, Mike Russell, Alan Trammell',\n",
    "                 'Brian Pick elsimer, Tyler VanderVlucht, Jillian Walker',\n",
    "                 'Brandon Hoffman, Nic Lash, Corey O’Donnell, Matt Olinik, Autumn Sharp, Brennan Socha',\n",
    "                 'Kar a Grabowski, Kate Laura',\n",
    "                 'Mik e Russell, Alan Trammell',\n",
    "                 'Maggie O’Har a, Danny Vargovick',\n",
    "                 'Jeff P ongracz, Mike Graham',\n",
    "                 'Thomas Kappel, Dono van Powell, John Wolski',\n",
    "                 'Maggie O’Har a, Jonah Simon, Danny Vargovick',\n",
    "                 'Jor dan Markowski, David Ocampo, Jacob Thomas, Kevin Wilson',\n",
    "                 'Matt Olinik, Dr ew Padgen, Lindsey Ray']:\n",
    "      new_title = prior_title\n",
    "      new_name = title\n",
    "\n",
    "\n",
    "  # Remove banned substrings\n",
    "  banned_substrings = [\n",
    "      'Dr.', 'O.D.', 'M.D.'\n",
    "  ]\n",
    "\n",
    "  for e in banned_substrings:\n",
    "    new_name = new_name.replace(e, '')\n",
    "\n",
    "\n",
    "  # Trim unwanted spaces and characters\n",
    "  new_name = new_name.strip(' ').strip(',').replace(\"' \", \"'\")\n",
    "\n",
    "  return new_title, new_name"
   ]
  },
  {
   "cell_type": "code",
   "execution_count": 6,
   "metadata": {
    "executionInfo": {
     "elapsed": 15,
     "status": "ok",
     "timestamp": 1661610149144,
     "user": {
      "displayName": "Brian Barnes",
      "userId": "17159938779096451246"
     },
     "user_tz": 240
    },
    "id": "K3ZTvpLlXs1H"
   },
   "outputs": [],
   "source": [
    "def get_front_office_roster(pdf:PdfReader, year:int, team:str, first_page:int, last_page:int) -> pd.DataFrame:\n",
    "\n",
    "  def get_department(row):\n",
    "    if row['Name'] == 'None':\n",
    "      return row['Title']\n",
    "    else:\n",
    "      return None\n",
    "\n",
    "\n",
    "  df_main = pd.DataFrame()\n",
    "  pages = range(first_page + 1, last_page + 2)\n",
    "\n",
    "  for p in pages:\n",
    "    pdf_page = pdf.getPage(p)\n",
    "    start = get_start_index(year, team, p)\n",
    "\n",
    "    records = [record for record in pdf_page.extractText().split('\\n')][start:]\n",
    "\n",
    "    title_name_split = [re.split(' ?\\.\\.+ ?', record) + [None, None] for record in records]\n",
    "    df = pd.DataFrame([e[:2] + [year, team] for e in title_name_split],\n",
    "                      columns=['Title', 'Name', 'Year', 'Team'])\n",
    "\n",
    "\n",
    "    # Cleanup job titles\n",
    "    df['Title'] = df['Title'].str.strip(' ')\n",
    "    df['Title'] = df['Title'].replace(get_title_cleanup())\n",
    "    df['Prior Title'] = df.Title.shift(1)\n",
    "\n",
    "\n",
    "    # Cleanup names\n",
    "    df[['Title', 'Name']] = df.apply(lambda x: cleanup_name_title(x.Year, x.Team, x.Title, x.Name, x['Prior Title']), axis=1, result_type='expand')\n",
    "    df['Name'] = df['Name'].str.split(', ')\n",
    "\n",
    "\n",
    "    # # # Expand name tuples to multiple rows, if necessary\n",
    "    df = df.explode('Name', ignore_index=True)\n",
    "\n",
    "\n",
    "    # # Determine the department\n",
    "    df['Department'] = df.apply(lambda x: get_department(x), axis=1) \\\n",
    "                         .replace(get_department_cleanup(year))\n",
    "    df['Department'] = df['Department'].fillna(method='ffill')\n",
    "\n",
    "\n",
    "    # # Remove empty rows\n",
    "    df = df[df.Name != 'None']\n",
    "\n",
    "\n",
    "    # # Order the columns as specified by SABR BoB Committee,\n",
    "    df = df[['Year', 'Team', 'Name', 'Title', 'Department']]\n",
    "\n",
    "\n",
    "    # Update the main dataframe\n",
    "    df_main = pd.concat([df_main, df]).reset_index(drop=True)\n",
    "\n",
    "  return df_main"
   ]
  },
  {
   "cell_type": "code",
   "execution_count": 7,
   "metadata": {
    "executionInfo": {
     "elapsed": 6917,
     "status": "ok",
     "timestamp": 1661610156049,
     "user": {
      "displayName": "Brian Barnes",
      "userId": "17159938779096451246"
     },
     "user_tz": 240
    },
    "id": "7NJBqkiz60Ex"
   },
   "outputs": [],
   "source": [
    "pages = {\n",
    "  'DET': {\n",
    "    2019: [6, 7],\n",
    "    2020: [4, 5],\n",
    "    2021: [4, 5],\n",
    "    2022: [4, 5]\n",
    "  }\n",
    "}\n",
    "\n",
    "final_df = pd.DataFrame()\n",
    "\n",
    "for team, contents in pages.items():\n",
    "  for year, pdf_pages in contents.items():\n",
    "    first_page = pdf_pages[0]\n",
    "    last_page = pdf_pages[1]\n",
    "    temp_df = get_front_office_roster(\n",
    "                PdfReader(f'../team-media-guides/{team}/{year}_{team}_Media_Guide.pdf'),\n",
    "                year, team, first_page, last_page\n",
    "              )\n",
    "    \n",
    "    final_df = pd.concat([final_df, temp_df])"
   ]
  },
  {
   "cell_type": "code",
   "execution_count": 10,
   "metadata": {
    "executionInfo": {
     "elapsed": 22,
     "status": "ok",
     "timestamp": 1661610156055,
     "user": {
      "displayName": "Brian Barnes",
      "userId": "17159938779096451246"
     },
     "user_tz": 240
    },
    "id": "mVDf_BmBRTsx"
   },
   "outputs": [],
   "source": [
    "final_df.to_csv('../out/det-front-office-rosters.csv', index=False, quoting=2)"
   ]
  },
  {
   "cell_type": "code",
   "execution_count": null,
   "metadata": {
    "id": "VWktJVBBrsf0"
   },
   "outputs": [],
   "source": []
  }
 ],
 "metadata": {
  "colab": {
   "authorship_tag": "ABX9TyNkXKNHV89yyZoyhs0mgDoQ",
   "collapsed_sections": [],
   "mount_file_id": "1kzKk5pwEGG6tt-L2_HCnqTIYSJxrMW3Y",
   "name": "det_media_guide_front_office.ipynb",
   "provenance": []
  },
  "kernelspec": {
   "display_name": "mlb-media-guide-parser",
   "language": "python",
   "name": "mlb-media-guide-parser"
  },
  "language_info": {
   "codemirror_mode": {
    "name": "ipython",
    "version": 3
   },
   "file_extension": ".py",
   "mimetype": "text/x-python",
   "name": "python",
   "nbconvert_exporter": "python",
   "pygments_lexer": "ipython3",
   "version": "3.10.8"
  }
 },
 "nbformat": 4,
 "nbformat_minor": 1
}
